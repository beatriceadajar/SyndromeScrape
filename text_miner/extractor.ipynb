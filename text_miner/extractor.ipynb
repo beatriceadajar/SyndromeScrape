{
 "cells": [
  {
   "cell_type": "code",
   "execution_count": 15,
   "metadata": {},
   "outputs": [],
   "source": [
    "import json, nltk\n",
    "import numpy as np\n",
    "import pandas as pd\n",
    "import matplotlib as plt\n",
    "%matplotlib inline  "
   ]
  },
  {
   "cell_type": "markdown",
   "metadata": {},
   "source": [
    "IE framework:\n",
    "1. Segmentation (sentences)\n",
    "2. Tokenization (words)\n",
    "3. POS tagging (pos-tagged words)\n",
    "4. Name-entity recognition (chunks)\n",
    "5. Relation recognition (relations)"
   ]
  },
  {
   "cell_type": "code",
   "execution_count": 16,
   "metadata": {},
   "outputs": [],
   "source": [
    "locations = pd.read_csv('psgc.csv',  encoding ='latin1')\n",
    "LOC_NAME = list(locations['name'])"
   ]
  },
  {
   "cell_type": "code",
   "execution_count": 18,
   "metadata": {},
   "outputs": [],
   "source": [
    "LOC_TYPE = {'brgy', 'barangay', 'town', 'district', 'mun', 'municipality', 'prov', 'province', 'city', 'metro', 'region', 'country', 'nation', 'republic', 'area', 'community', 'locale', 'locality', 'neighborhood', 'territory', 'vicinity', 'Philippines'}\n",
    "DATE_TYPE = {'day', 'yesterday', 'tomorrow', 'week', 'month', 'quarter', 'year', 'period', 'duration', 'time'}\n",
    "MONTH = {'january', 'february', 'march', 'april', 'may', 'june', 'july', 'august', 'september', 'october', 'november', 'december'}\n",
    "YEAR = [x for x in range(2000, 2020)]\n",
    "CAS = ['case', 'report', 'incident', 'occurrence', 'number', 'death', 'casualty', 'victim']\n",
    "DIS = {'dengue', 'measles', 'typhoid'}"
   ]
  }
 ],
 "metadata": {
  "kernelspec": {
   "display_name": "Python 3",
   "language": "python",
   "name": "python3"
  },
  "language_info": {
   "codemirror_mode": {
    "name": "ipython",
    "version": 3
   },
   "file_extension": ".py",
   "mimetype": "text/x-python",
   "name": "python",
   "nbconvert_exporter": "python",
   "pygments_lexer": "ipython3",
   "version": "3.6.4"
  }
 },
 "nbformat": 4,
 "nbformat_minor": 2
}

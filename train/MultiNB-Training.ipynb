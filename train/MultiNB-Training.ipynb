{
 "cells": [
  {
   "cell_type": "code",
   "execution_count": 382,
   "metadata": {},
   "outputs": [],
   "source": [
    "import numpy as np\n",
    "import pandas as pd\n",
    "from sklearn.feature_extraction.text import CountVectorizer\n",
    "from sklearn.model_selection import train_test_split\n",
    "from sklearn.naive_bayes import MultinomialNB\n",
    "from sklearn.feature_extraction.text import TfidfVectorizer"
   ]
  },
  {
   "cell_type": "code",
   "execution_count": 383,
   "metadata": {},
   "outputs": [
    {
     "data": {
      "text/plain": [
       "none       302\n",
       "measles     27\n",
       "dengue      26\n",
       "typhoid     24\n",
       "Name: disease, dtype: int64"
      ]
     },
     "execution_count": 383,
     "metadata": {},
     "output_type": "execute_result"
    }
   ],
   "source": [
    "df = pd.read_json('train.json', encoding='utf-8')\n",
    "df = df.sample(frac=1).reset_index(drop=True)\n",
    "df = df[['content', 'disease']]\n",
    "df.head()\n",
    "df['disease'].value_counts()"
   ]
  },
  {
   "cell_type": "code",
   "execution_count": 384,
   "metadata": {},
   "outputs": [
    {
     "data": {
      "text/html": [
       "<div>\n",
       "<style>\n",
       "    .dataframe thead tr:only-child th {\n",
       "        text-align: right;\n",
       "    }\n",
       "\n",
       "    .dataframe thead th {\n",
       "        text-align: left;\n",
       "    }\n",
       "\n",
       "    .dataframe tbody tr th {\n",
       "        vertical-align: top;\n",
       "    }\n",
       "</style>\n",
       "<table border=\"1\" class=\"dataframe\">\n",
       "  <thead>\n",
       "    <tr style=\"text-align: right;\">\n",
       "      <th></th>\n",
       "      <th>content</th>\n",
       "      <th>disease</th>\n",
       "    </tr>\n",
       "  </thead>\n",
       "  <tbody>\n",
       "    <tr>\n",
       "      <th>0</th>\n",
       "      <td>MANILA, Philippines — Former Igbaras, Iloilo m...</td>\n",
       "      <td>0</td>\n",
       "    </tr>\n",
       "    <tr>\n",
       "      <th>1</th>\n",
       "      <td>MANILA, Philippines—The Philippine Health Insu...</td>\n",
       "      <td>2</td>\n",
       "    </tr>\n",
       "    <tr>\n",
       "      <th>2</th>\n",
       "      <td>May pasok na po sa karamihan ng opisina at esk...</td>\n",
       "      <td>0</td>\n",
       "    </tr>\n",
       "    <tr>\n",
       "      <th>3</th>\n",
       "      <td>TOKYO — Japan will provide close to P60 billio...</td>\n",
       "      <td>0</td>\n",
       "    </tr>\n",
       "    <tr>\n",
       "      <th>4</th>\n",
       "      <td>MANILA, Philippines – Senator Richard Gordon o...</td>\n",
       "      <td>0</td>\n",
       "    </tr>\n",
       "  </tbody>\n",
       "</table>\n",
       "</div>"
      ],
      "text/plain": [
       "                                             content disease\n",
       "0  MANILA, Philippines — Former Igbaras, Iloilo m...       0\n",
       "1  MANILA, Philippines—The Philippine Health Insu...       2\n",
       "2  May pasok na po sa karamihan ng opisina at esk...       0\n",
       "3  TOKYO — Japan will provide close to P60 billio...       0\n",
       "4  MANILA, Philippines – Senator Richard Gordon o...       0"
      ]
     },
     "execution_count": 384,
     "metadata": {},
     "output_type": "execute_result"
    }
   ],
   "source": [
    "df.loc[df['disease']=='none', 'disease',]=0\n",
    "df.loc[df['disease']=='dengue', 'disease',]=1\n",
    "df.loc[df['disease']=='measles', 'disease',]=2\n",
    "df.loc[df['disease']=='typhoid', 'disease',]=3\n",
    "df.head()"
   ]
  },
  {
   "cell_type": "code",
   "execution_count": 385,
   "metadata": {},
   "outputs": [],
   "source": [
    "df_x = df['content']\n",
    "df_y = df['disease']"
   ]
  },
  {
   "cell_type": "code",
   "execution_count": 386,
   "metadata": {},
   "outputs": [],
   "source": [
    "x_train, x_test, y_train, y_test = train_test_split(df_x, df_y, test_size=0.5, random_state=4)"
   ]
  },
  {
   "cell_type": "code",
   "execution_count": 387,
   "metadata": {},
   "outputs": [
    {
     "data": {
      "text/plain": [
       "232    MANILA, Philippines - The health department on...\n",
       "297    ILOILO CITY, Philippines - Mayor Jerry Treñas ...\n",
       "90     MANILA, Philippines — Following a spike of sur...\n",
       "76     TACLOBAN CITY, Philippines - Dengue has killed...\n",
       "108    MANILA - The Philippine National Police (PNP) ...\n",
       "Name: content, dtype: object"
      ]
     },
     "execution_count": 387,
     "metadata": {},
     "output_type": "execute_result"
    }
   ],
   "source": [
    "x_train.head()"
   ]
  },
  {
   "cell_type": "code",
   "execution_count": 388,
   "metadata": {},
   "outputs": [],
   "source": [
    "cv = CountVectorizer(min_df=1, stop_words='english', vocabulary={\n",
    "    'dengue':0, \n",
    "    'measles':1, \n",
    "    'typhoid':2,\n",
    "})\n",
    "x_traincv = cv.fit_transform(x_train)\n",
    "a = x_traincv.toarray()\n",
    "cv.inverse_transform(a[0])\n",
    "x_testcv = cv.transform(x_test)"
   ]
  },
  {
   "cell_type": "code",
   "execution_count": 389,
   "metadata": {},
   "outputs": [],
   "source": [
    "mnb = MultinomialNB()"
   ]
  },
  {
   "cell_type": "code",
   "execution_count": 390,
   "metadata": {},
   "outputs": [
    {
     "data": {
      "text/plain": [
       "232    3\n",
       "297    3\n",
       "90     0\n",
       "76     3\n",
       "108    0\n",
       "229    0\n",
       "327    0\n",
       "162    0\n",
       "35     0\n",
       "257    0\n",
       "178    0\n",
       "81     0\n",
       "163    1\n",
       "57     0\n",
       "121    0\n",
       "321    0\n",
       "26     2\n",
       "140    3\n",
       "341    0\n",
       "104    0\n",
       "4      0\n",
       "266    0\n",
       "77     0\n",
       "281    0\n",
       "135    0\n",
       "62     0\n",
       "347    0\n",
       "271    2\n",
       "278    3\n",
       "38     0\n",
       "      ..\n",
       "49     0\n",
       "136    3\n",
       "30     2\n",
       "377    0\n",
       "194    0\n",
       "56     1\n",
       "201    2\n",
       "149    3\n",
       "21     0\n",
       "183    0\n",
       "0      0\n",
       "52     0\n",
       "126    0\n",
       "294    0\n",
       "44     0\n",
       "164    3\n",
       "375    0\n",
       "313    1\n",
       "311    0\n",
       "94     0\n",
       "109    0\n",
       "359    0\n",
       "252    0\n",
       "58     0\n",
       "306    0\n",
       "87     0\n",
       "360    1\n",
       "197    0\n",
       "174    0\n",
       "122    0\n",
       "Name: disease, Length: 189, dtype: int64"
      ]
     },
     "execution_count": 390,
     "metadata": {},
     "output_type": "execute_result"
    }
   ],
   "source": [
    "y_train = y_train.astype('int')\n",
    "y_train"
   ]
  },
  {
   "cell_type": "code",
   "execution_count": 391,
   "metadata": {},
   "outputs": [
    {
     "data": {
      "text/plain": [
       "MultinomialNB(alpha=1.0, class_prior=None, fit_prior=True)"
      ]
     },
     "execution_count": 391,
     "metadata": {},
     "output_type": "execute_result"
    }
   ],
   "source": [
    "mnb.fit(x_traincv, y_train)"
   ]
  },
  {
   "cell_type": "code",
   "execution_count": 392,
   "metadata": {},
   "outputs": [],
   "source": [
    "predictions = mnb.predict(x_testcv)"
   ]
  },
  {
   "cell_type": "code",
   "execution_count": 393,
   "metadata": {},
   "outputs": [
    {
     "data": {
      "text/plain": [
       "array([0, 0, 0, 3, 0, 2, 1, 0, 0, 0, 0, 3, 0, 0, 0, 0, 0, 2, 0, 0, 1, 0, 1,\n",
       "       2, 0, 0, 0, 0, 0, 0, 0, 1, 0, 0, 0, 0, 0, 0, 0, 0, 0, 0, 0, 1, 1, 0,\n",
       "       0, 0, 0, 0, 0, 0, 0, 3, 2, 0, 0, 0, 0, 1, 0, 0, 0, 3, 0, 0, 0, 0, 0,\n",
       "       2, 0, 0, 0, 0, 0, 0, 3, 0, 0, 0, 0, 1, 1, 0, 2, 2, 0, 0, 0, 0, 0, 0,\n",
       "       0, 0, 0, 0, 0, 0, 0, 0, 0, 3, 0, 0, 0, 0, 0, 0, 0, 2, 1, 0, 0, 3, 0,\n",
       "       0, 0, 0, 0, 0, 0, 0, 0, 0, 2, 0, 1, 0, 0, 0, 0, 0, 0, 0, 1, 3, 0, 0,\n",
       "       0, 0, 0, 0, 0, 0, 0, 0, 0, 2, 0, 0, 0, 0, 0, 0, 0, 0, 0, 0, 0, 0, 0,\n",
       "       1, 0, 0, 0, 0, 0, 2, 0, 0, 0, 2, 0, 0, 0, 1, 0, 0, 0, 0, 0, 0, 0, 0,\n",
       "       0, 3, 0, 0, 0, 3], dtype=object)"
      ]
     },
     "execution_count": 393,
     "metadata": {},
     "output_type": "execute_result"
    }
   ],
   "source": [
    "a = np.array(y_test)\n",
    "a"
   ]
  },
  {
   "cell_type": "code",
   "execution_count": 394,
   "metadata": {},
   "outputs": [
    {
     "name": "stdout",
     "output_type": "stream",
     "text": [
      "Prediction 0 \n",
      "Actual: 3 \n",
      "\n",
      "Prediction 0 \n",
      "Actual: 2 \n",
      "\n",
      "Prediction 0 \n",
      "Actual: 1 \n",
      "\n",
      "Prediction 0 \n",
      "Actual: 3 \n",
      "\n",
      "Prediction 0 \n",
      "Actual: 2 \n",
      "\n",
      "Prediction 0 \n",
      "Actual: 1 \n",
      "\n",
      "Prediction 0 \n",
      "Actual: 1 \n",
      "\n",
      "Prediction 0 \n",
      "Actual: 2 \n",
      "\n",
      "Prediction 0 \n",
      "Actual: 1 \n",
      "\n",
      "Prediction 0 \n",
      "Actual: 1 \n",
      "\n",
      "Prediction 0 \n",
      "Actual: 1 \n",
      "\n",
      "Prediction 0 \n",
      "Actual: 3 \n",
      "\n",
      "Prediction 0 \n",
      "Actual: 2 \n",
      "\n",
      "Prediction 0 \n",
      "Actual: 1 \n",
      "\n",
      "Prediction 0 \n",
      "Actual: 3 \n",
      "\n",
      "Prediction 0 \n",
      "Actual: 2 \n",
      "\n",
      "Prediction 0 \n",
      "Actual: 3 \n",
      "\n",
      "Prediction 0 \n",
      "Actual: 1 \n",
      "\n",
      "Prediction 0 \n",
      "Actual: 1 \n",
      "\n",
      "Prediction 0 \n",
      "Actual: 2 \n",
      "\n",
      "Prediction 0 \n",
      "Actual: 2 \n",
      "\n",
      "Prediction 0 \n",
      "Actual: 3 \n",
      "\n",
      "Prediction 0 \n",
      "Actual: 2 \n",
      "\n",
      "Prediction 0 \n",
      "Actual: 1 \n",
      "\n",
      "Prediction 0 \n",
      "Actual: 3 \n",
      "\n",
      "Prediction 0 \n",
      "Actual: 2 \n",
      "\n",
      "Prediction 0 \n",
      "Actual: 1 \n",
      "\n",
      "Prediction 0 \n",
      "Actual: 1 \n",
      "\n",
      "Prediction 0 \n",
      "Actual: 3 \n",
      "\n",
      "Prediction 0 \n",
      "Actual: 2 \n",
      "\n",
      "Prediction 0 \n",
      "Actual: 1 \n",
      "\n",
      "Prediction 0 \n",
      "Actual: 2 \n",
      "\n",
      "Prediction 0 \n",
      "Actual: 2 \n",
      "\n",
      "Prediction 0 \n",
      "Actual: 1 \n",
      "\n",
      "Prediction 0 \n",
      "Actual: 3 \n",
      "\n",
      "Prediction 0 \n",
      "Actual: 3 \n",
      "\n"
     ]
    },
    {
     "data": {
      "text/plain": [
       "154"
      ]
     },
     "execution_count": 394,
     "metadata": {},
     "output_type": "execute_result"
    }
   ],
   "source": [
    "count = 0\n",
    "\n",
    "for i in range(len(predictions)):\n",
    "    if predictions[i] == a[i]:\n",
    "        count += 1\n",
    "    else:\n",
    "        print(\"Prediction\", predictions[i], \"\\nActual:\", a[i], \"\\n\")\n",
    "        \n",
    "count"
   ]
  },
  {
   "cell_type": "code",
   "execution_count": 395,
   "metadata": {},
   "outputs": [
    {
     "data": {
      "text/plain": [
       "190"
      ]
     },
     "execution_count": 395,
     "metadata": {},
     "output_type": "execute_result"
    }
   ],
   "source": [
    "len(predictions)"
   ]
  },
  {
   "cell_type": "code",
   "execution_count": 396,
   "metadata": {},
   "outputs": [
    {
     "data": {
      "text/plain": [
       "0.8105263157894737"
      ]
     },
     "execution_count": 396,
     "metadata": {},
     "output_type": "execute_result"
    }
   ],
   "source": [
    "count / len(predictions)"
   ]
  }
 ],
 "metadata": {
  "kernelspec": {
   "display_name": "Python 3",
   "language": "python",
   "name": "python3"
  },
  "language_info": {
   "codemirror_mode": {
    "name": "ipython",
    "version": 3
   },
   "file_extension": ".py",
   "mimetype": "text/x-python",
   "name": "python",
   "nbconvert_exporter": "python",
   "pygments_lexer": "ipython3",
   "version": "3.6.2"
  }
 },
 "nbformat": 4,
 "nbformat_minor": 2
}
